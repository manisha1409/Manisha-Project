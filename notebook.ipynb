{
  "cells": [
    {
      "metadata": {
        "_uuid": "6a8cf59d2d17b91b62a8cfe92457393e7788d23c"
      },
      "cell_type": "markdown",
      "source": "\nRecommender systems are among the most popular applications of data science today. They are used to predict the \"rating\" or \"preference\" that a user would give to an item. Almost every major tech company has applied them in some form or the other: Amazon uses it to suggest products to customers, YouTube uses it to decide which video to play next on autoplay, and Facebook uses it to recommend pages to like and people to follow."
    },
    {
      "metadata": {
        "_uuid": "35927f9d5686f33be9ab3c38ff9c3699408481e0"
      },
      "cell_type": "markdown",
      "source": "Broadly, recommender systems can be classified into 3 types:\n\n**    Simple recommenders**: offer generalized recommendations to every user, based on movie popularity and/or genre. The basic idea behind this system is that movies that are more popular and critically acclaimed will have a higher probability of being liked by the average audience. IMDB Top 250 is an example of this system.\n   ** Content-based recommenders**: suggest similar items based on a particular item. This system uses item metadata, such as genre, director, description, actors, etc. for movies, to make these recommendations. The general idea behind these recommender systems is that if a person liked a particular item, he or she will also like an item that is similar to it.\n    **Collaborative filtering engines**: these systems try to predict the rating or preference that a user would give an item-based on past ratings and preferences of other users. Collaborative filters do not require item metadata like its content-based counterparts.\n"
    },
    {
      "metadata": {
        "_uuid": "774dd690c61fd661e34f94d9000ba404b4e4dc4e"
      },
      "cell_type": "markdown",
      "source": "This is a basic model of collabrative filtering(item based).\nI have taken the dataset from www.kaggle.com(Movielens data small)."
    },
    {
      "metadata": {
        "_cell_guid": "b1076dfc-b9ad-4769-8c92-a6c4dae69d19",
        "_uuid": "8f2839f25d086af736a60e9eeb907d3b93b6e0e5",
        "trusted": true,
        "collapsed": true
      },
      "cell_type": "code",
      "source": "#Uploading all necessary libraries and dataset\nimport pandas as pd\nfrom sklearn.metrics.pairwise import cosine_similarity\n#this contains ratings of different movies\nratings=pd.read_csv('../input/ratings.csv')\nratings.head(15)",
      "execution_count": 17,
      "outputs": []
    },
    {
      "metadata": {
        "_cell_guid": "79c7e3d0-c299-4dcb-8224-4455121ee9b0",
        "_uuid": "d629ff2d2480ee46fbb7e2d37f6b5fab8052498a",
        "trusted": true,
        "collapsed": true
      },
      "cell_type": "code",
      "source": "#this conatins details about different movies.\nmovies=pd.read_csv('../input/movies.csv')\nmovies.head(15)",
      "execution_count": 18,
      "outputs": []
    },
    {
      "metadata": {
        "trusted": true,
        "_uuid": "36014c62d5988ff8b9b061f927a4a1aadf324032",
        "collapsed": true
      },
      "cell_type": "code",
      "source": "#meging movie data with their ratings.\nmovie_ratings = pd.merge(movies, ratings)\nmovie_ratings.head(15)",
      "execution_count": 19,
      "outputs": []
    },
    {
      "metadata": {
        "trusted": true,
        "_uuid": "3925922bb01712a3bf00adb77a7b3573043985ea",
        "collapsed": true
      },
      "cell_type": "code",
      "source": "#Creating a matrix of users and movie ratings.\nratings_matrix = ratings.pivot_table(index=['movieId'],columns=['userId'],values='rating').reset_index(drop=True)\nratings_matrix.fillna( 0, inplace = True )\nratings_matrix.head(15)",
      "execution_count": 20,
      "outputs": []
    },
    {
      "metadata": {
        "trusted": true,
        "_uuid": "402f33cd3380ae450fe974df01b1165e84cf0741",
        "collapsed": true
      },
      "cell_type": "code",
      "source": "#Cosine Similarity(Creates a cosine matrix of similaraties which is the pairwise distances\n# between two items )\nmovie_similarity=cosine_similarity(ratings_matrix)\nnp.fill_diagonal( movie_similarity, 0 ) \n",
      "execution_count": 21,
      "outputs": []
    },
    {
      "metadata": {
        "trusted": true,
        "_uuid": "a331a1ed99266995981dfd2ed993cc41d7bc744b",
        "collapsed": true
      },
      "cell_type": "code",
      "source": "ratings_matrix = pd.DataFrame( movie_similarity )\nratings_matrix.head(15)",
      "execution_count": 22,
      "outputs": []
    },
    {
      "metadata": {
        "trusted": true,
        "_uuid": "c4cadc2434e3190b29aafde4ee995f452ac39dc5",
        "collapsed": true
      },
      "cell_type": "code",
      "source": "#enter the input and get recommendations.\ntry:\n    #user_inp=input('Enter the reference movie title based on which recommendations are to be made: ')\n    user_inp=\"Jumanji (1995)\"\n    inp=movies[movies['title']==user_inp].index.tolist()\n    inp=inp[0]\n    \n    movies['similarity'] = ratings_matrix.iloc[inp]\n    movies.head(5)\n    \nexcept:\n    print(\"Sorry, the movie is not in the database!\")\n    \nprint(\"Recommended movies based on your choice of \",user_inp ,\": \\n\", movies.sort_values( [\"similarity\"], ascending = False )[1:10])",
      "execution_count": 24,
      "outputs": []
    }
  ],
  "metadata": {
    "kernelspec": {
      "display_name": "Python 3",
      "language": "python",
      "name": "python3"
    },
    "language_info": {
      "name": "python",
      "version": "3.6.5",
      "mimetype": "text/x-python",
      "codemirror_mode": {
        "name": "ipython",
        "version": 3
      },
      "pygments_lexer": "ipython3",
      "nbconvert_exporter": "python",
      "file_extension": ".py"
    }
  },
  "nbformat": 4,
  "nbformat_minor": 1
}